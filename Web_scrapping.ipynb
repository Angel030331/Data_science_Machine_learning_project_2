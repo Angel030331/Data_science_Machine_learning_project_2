version https://git-lfs.github.com/spec/v1
oid sha256:18eead0b94773863e70d59d82c2ed20ebedb807a7344b18688bacec84e1f543b
size 303247
